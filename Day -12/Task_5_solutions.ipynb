{
 "cells": [
  {
   "cell_type": "code",
   "execution_count": 5,
   "metadata": {},
   "outputs": [],
   "source": [
    "import sqlite3\n",
    "import pandas as pd"
   ]
  },
  {
   "cell_type": "code",
   "execution_count": 6,
   "metadata": {},
   "outputs": [
    {
     "ename": "DatabaseError",
     "evalue": "file is not a database",
     "output_type": "error",
     "traceback": [
      "\u001b[1;31m---------------------------------------------------------------------------\u001b[0m",
      "\u001b[1;31mDatabaseError\u001b[0m                             Traceback (most recent call last)",
      "\u001b[1;32m<ipython-input-6-e7ee08edd181>\u001b[0m in \u001b[0;36m<module>\u001b[1;34m\u001b[0m\n\u001b[0;32m      1\u001b[0m \u001b[0mconn\u001b[0m \u001b[1;33m=\u001b[0m \u001b[0msqlite3\u001b[0m\u001b[1;33m.\u001b[0m\u001b[0mconnect\u001b[0m\u001b[1;33m(\u001b[0m\u001b[1;34m'musicbrainz-cmudb2020.db.gz'\u001b[0m\u001b[1;33m)\u001b[0m\u001b[1;33m\u001b[0m\u001b[1;33m\u001b[0m\u001b[0m\n\u001b[0;32m      2\u001b[0m \u001b[0mcursor\u001b[0m \u001b[1;33m=\u001b[0m \u001b[0mconn\u001b[0m\u001b[1;33m.\u001b[0m\u001b[0mcursor\u001b[0m\u001b[1;33m(\u001b[0m\u001b[1;33m)\u001b[0m\u001b[1;33m\u001b[0m\u001b[1;33m\u001b[0m\u001b[0m\n\u001b[1;32m----> 3\u001b[1;33m \u001b[0mcursor\u001b[0m\u001b[1;33m.\u001b[0m\u001b[0mexecute\u001b[0m\u001b[1;33m(\u001b[0m\u001b[1;34m\"SELECT name FROM sqlite_master WHERE type='table'\"\u001b[0m\u001b[1;33m)\u001b[0m\u001b[1;33m\u001b[0m\u001b[1;33m\u001b[0m\u001b[0m\n\u001b[0m\u001b[0;32m      4\u001b[0m \u001b[0mtables\u001b[0m \u001b[1;33m=\u001b[0m \u001b[0mcursor\u001b[0m\u001b[1;33m.\u001b[0m\u001b[0mfetchall\u001b[0m\u001b[1;33m(\u001b[0m\u001b[1;33m)\u001b[0m\u001b[1;33m\u001b[0m\u001b[1;33m\u001b[0m\u001b[0m\n\u001b[0;32m      5\u001b[0m \u001b[0mprint\u001b[0m\u001b[1;33m(\u001b[0m\u001b[0mtables\u001b[0m\u001b[1;33m)\u001b[0m\u001b[1;33m\u001b[0m\u001b[1;33m\u001b[0m\u001b[0m\n",
      "\u001b[1;31mDatabaseError\u001b[0m: file is not a database"
     ]
    }
   ],
   "source": [
    "conn = sqlite3.connect('musicbrainz-cmudb2020.db.gz')\n",
    "cursor = conn.cursor()\n",
    "cursor.execute(\"SELECT name FROM sqlite_master WHERE type='table'\")\n",
    "tables = cursor.fetchall()\n",
    "print(tables)\n",
    "print(len(tables))"
   ]
  },
  {
   "cell_type": "markdown",
   "metadata": {},
   "source": [
    "4Observe that we have 15 tables in this database."
   ]
  },
  {
   "cell_type": "markdown",
   "metadata": {},
   "source": [
    "## Q1 (q1_sample)\n",
    "\n",
    "The purpose of this query is to make sure that the formatting of your output matches exactly the formatting of our auto-grading script.\n",
    "\n",
    "<b>Details:</b> List all types of work ordered by type ascendingly.\n"
   ]
  },
  {
   "cell_type": "code",
   "execution_count": 5,
   "metadata": {},
   "outputs": [
    {
     "name": "stdout",
     "output_type": "stream",
     "text": [
      "id\n",
      "name\n",
      "description\n"
     ]
    }
   ],
   "source": [
    "# Lets have a look at all columns in work_type table\n",
    "\n",
    "cursor.execute(\"PRAGMA table_info('work_type')\")\n",
    "cols = cursor.fetchall()\n",
    "for col in cols:\n",
    "    print(col[1])"
   ]
  },
  {
   "cell_type": "code",
   "execution_count": 4,
   "metadata": {},
   "outputs": [
    {
     "data": {
      "text/html": [
       "<div>\n",
       "<style scoped>\n",
       "    .dataframe tbody tr th:only-of-type {\n",
       "        vertical-align: middle;\n",
       "    }\n",
       "\n",
       "    .dataframe tbody tr th {\n",
       "        vertical-align: top;\n",
       "    }\n",
       "\n",
       "    .dataframe thead th {\n",
       "        text-align: right;\n",
       "    }\n",
       "</style>\n",
       "<table border=\"1\" class=\"dataframe\">\n",
       "  <thead>\n",
       "    <tr style=\"text-align: right;\">\n",
       "      <th></th>\n",
       "      <th>name</th>\n",
       "    </tr>\n",
       "  </thead>\n",
       "  <tbody>\n",
       "    <tr>\n",
       "      <th>0</th>\n",
       "      <td>Aria</td>\n",
       "    </tr>\n",
       "    <tr>\n",
       "      <th>1</th>\n",
       "      <td>Audio drama</td>\n",
       "    </tr>\n",
       "    <tr>\n",
       "      <th>2</th>\n",
       "      <td>Ballet</td>\n",
       "    </tr>\n",
       "    <tr>\n",
       "      <th>3</th>\n",
       "      <td>Beijing opera</td>\n",
       "    </tr>\n",
       "    <tr>\n",
       "      <th>4</th>\n",
       "      <td>Cantata</td>\n",
       "    </tr>\n",
       "    <tr>\n",
       "      <th>5</th>\n",
       "      <td>Concerto</td>\n",
       "    </tr>\n",
       "    <tr>\n",
       "      <th>6</th>\n",
       "      <td>Incidental music</td>\n",
       "    </tr>\n",
       "    <tr>\n",
       "      <th>7</th>\n",
       "      <td>Madrigal</td>\n",
       "    </tr>\n",
       "    <tr>\n",
       "      <th>8</th>\n",
       "      <td>Mass</td>\n",
       "    </tr>\n",
       "    <tr>\n",
       "      <th>9</th>\n",
       "      <td>Motet</td>\n",
       "    </tr>\n",
       "    <tr>\n",
       "      <th>10</th>\n",
       "      <td>Musical</td>\n",
       "    </tr>\n",
       "    <tr>\n",
       "      <th>11</th>\n",
       "      <td>Opera</td>\n",
       "    </tr>\n",
       "    <tr>\n",
       "      <th>12</th>\n",
       "      <td>Operetta</td>\n",
       "    </tr>\n",
       "    <tr>\n",
       "      <th>13</th>\n",
       "      <td>Oratorio</td>\n",
       "    </tr>\n",
       "    <tr>\n",
       "      <th>14</th>\n",
       "      <td>Overture</td>\n",
       "    </tr>\n",
       "    <tr>\n",
       "      <th>15</th>\n",
       "      <td>Partita</td>\n",
       "    </tr>\n",
       "    <tr>\n",
       "      <th>16</th>\n",
       "      <td>Play</td>\n",
       "    </tr>\n",
       "    <tr>\n",
       "      <th>17</th>\n",
       "      <td>Poem</td>\n",
       "    </tr>\n",
       "    <tr>\n",
       "      <th>18</th>\n",
       "      <td>Prose</td>\n",
       "    </tr>\n",
       "    <tr>\n",
       "      <th>19</th>\n",
       "      <td>Quartet</td>\n",
       "    </tr>\n",
       "    <tr>\n",
       "      <th>20</th>\n",
       "      <td>Sonata</td>\n",
       "    </tr>\n",
       "    <tr>\n",
       "      <th>21</th>\n",
       "      <td>Song</td>\n",
       "    </tr>\n",
       "    <tr>\n",
       "      <th>22</th>\n",
       "      <td>Song-cycle</td>\n",
       "    </tr>\n",
       "    <tr>\n",
       "      <th>23</th>\n",
       "      <td>Soundtrack</td>\n",
       "    </tr>\n",
       "    <tr>\n",
       "      <th>24</th>\n",
       "      <td>Suite</td>\n",
       "    </tr>\n",
       "    <tr>\n",
       "      <th>25</th>\n",
       "      <td>Symphonic poem</td>\n",
       "    </tr>\n",
       "    <tr>\n",
       "      <th>26</th>\n",
       "      <td>Symphony</td>\n",
       "    </tr>\n",
       "    <tr>\n",
       "      <th>27</th>\n",
       "      <td>Zarzuela</td>\n",
       "    </tr>\n",
       "    <tr>\n",
       "      <th>28</th>\n",
       "      <td>Étude</td>\n",
       "    </tr>\n",
       "  </tbody>\n",
       "</table>\n",
       "</div>"
      ],
      "text/plain": [
       "                name\n",
       "0               Aria\n",
       "1        Audio drama\n",
       "2             Ballet\n",
       "3      Beijing opera\n",
       "4            Cantata\n",
       "5           Concerto\n",
       "6   Incidental music\n",
       "7           Madrigal\n",
       "8               Mass\n",
       "9              Motet\n",
       "10           Musical\n",
       "11             Opera\n",
       "12          Operetta\n",
       "13          Oratorio\n",
       "14          Overture\n",
       "15           Partita\n",
       "16              Play\n",
       "17              Poem\n",
       "18             Prose\n",
       "19           Quartet\n",
       "20            Sonata\n",
       "21              Song\n",
       "22        Song-cycle\n",
       "23        Soundtrack\n",
       "24             Suite\n",
       "25    Symphonic poem\n",
       "26          Symphony\n",
       "27          Zarzuela\n",
       "28             Étude"
      ]
     },
     "execution_count": 4,
     "metadata": {},
     "output_type": "execute_result"
    }
   ],
   "source": [
    "output = pd.read_sql_query(\"\"\"SELECT name FROM work_type ORDER BY name\"\"\", conn)\n",
    "output"
   ]
  },
  {
   "cell_type": "code",
   "execution_count": null,
   "metadata": {},
   "outputs": [],
   "source": [
    "# Now solve rest of the questions.. \n",
    "\n",
    "# Go through the database schema multiple time inorder to understand it"
   ]
  },
  {
   "cell_type": "markdown",
   "metadata": {},
   "source": [
    "### Below mentioned are the SQL queries to all the questions. Put them in proper pd.read_sql_query syntax and run"
   ]
  },
  {
   "cell_type": "markdown",
   "metadata": {},
   "source": [
    "## Q2"
   ]
  },
  {
   "cell_type": "code",
   "execution_count": null,
   "metadata": {},
   "outputs": [],
   "source": [
    "select work.name,\n",
    "    work_type.name\n",
    "from work\n",
    "    inner join (\n",
    "        select max(length(work.name)) as max_length,\n",
    "            work.type as type\n",
    "        from work\n",
    "        group by work.type\n",
    "    ) as newtable on newtable.max_length = length(work.name)\n",
    "    and work.type = newtable.type\n",
    "    inner join work_type on work.type = work_type.id\n",
    "order by work.type asc,\n",
    "    work.name asc;"
   ]
  },
  {
   "cell_type": "markdown",
   "metadata": {},
   "source": [
    "## Q3"
   ]
  },
  {
   "cell_type": "code",
   "execution_count": null,
   "metadata": {},
   "outputs": [],
   "source": [
    "select a2.name,\n",
    "    count(*) as c\n",
    "from artist a1\n",
    "    inner join area a2 on a1.area = a2.id\n",
    "where begin_date_year < 1850\n",
    "group by a1.area\n",
    "order by c desc\n",
    "limit 10;"
   ]
  },
  {
   "cell_type": "markdown",
   "metadata": {},
   "source": [
    "## Q4"
   ]
  },
  {
   "cell_type": "code",
   "execution_count": null,
   "metadata": {},
   "outputs": [],
   "source": [
    "Select artist.name,\n",
    "    count(distinct artist_alias.name) as num\n",
    "From artist\n",
    "    inner join artist_alias on artist.id = artist_alias.artist\n",
    "Where artist.begin_date_year > 1950\n",
    "    and area = 221\n",
    "Group by artist.id\n",
    "Order by num desc\n",
    "Limit 10;"
   ]
  },
  {
   "cell_type": "markdown",
   "metadata": {},
   "source": [
    "## Q5"
   ]
  },
  {
   "cell_type": "code",
   "execution_count": null,
   "metadata": {},
   "outputs": [],
   "source": [
    "select distinct r1.name as rname\n",
    "from artist_credit_name a1\n",
    "    inner join artist_credit a2 on a1.artist_credit = a2.id\n",
    "    inner join release r1 on a2.id = r1.artist_credit\n",
    "    inner join release_info r2 on r1.id = r2.release\n",
    "    inner join medium m1 on r1.id = m1.release\n",
    "    inner join medium_format m2 on m1.format = m2.id\n",
    "where a1.name = 'Coldplay'\n",
    "    and m2.name like '%Vinyl'\n",
    "order by date_year,\n",
    "    date_month,\n",
    "    date_day;"
   ]
  },
  {
   "cell_type": "markdown",
   "metadata": {},
   "source": [
    "## Q6"
   ]
  },
  {
   "cell_type": "code",
   "execution_count": null,
   "metadata": {},
   "outputs": [],
   "source": [
    "Select decade,\n",
    "    count(*) as cnt\n",
    "from (\n",
    "        select (CAST((date_year / 10) as int) * 10) || 's' as decade\n",
    "        from release\n",
    "            inner join release_info on release.id = release_info.release\n",
    "        where release.status = 1\n",
    "            and date_year >= 1900\n",
    "    )\n",
    "Group by decade\n",
    "Order by cnt desc,\n",
    "    decade desc;"
   ]
  },
  {
   "cell_type": "markdown",
   "metadata": {},
   "source": [
    "## Q7"
   ]
  },
  {
   "cell_type": "code",
   "execution_count": null,
   "metadata": {},
   "outputs": [],
   "source": [
    "with past_year_release (year, month) as (\n",
    "    select date_year,\n",
    "        date_month\n",
    "    from release_info r1\n",
    "        inner join release r2 on r1.release = r2.id\n",
    "    where (\n",
    "            (\n",
    "                date_year = 2019\n",
    "                and date_month >= 7\n",
    "            )\n",
    "            or (\n",
    "                date_year = 2020\n",
    "                and date_month <= 7\n",
    "            )\n",
    "        )\n",
    ")\n",
    "select cast(year as varchar) || '.' || (\n",
    "        case\n",
    "            when month < 10 then '0'\n",
    "            else ''\n",
    "        end\n",
    "    ) || cast(month as varchar) as date,\n",
    "    round(\n",
    "        count(*) * 100.0 / (\n",
    "            select count(*)\n",
    "            from past_year_release\n",
    "        ),\n",
    "        2\n",
    "    )\n",
    "from past_year_release\n",
    "group by date\n",
    "order by date;"
   ]
  },
  {
   "cell_type": "markdown",
   "metadata": {},
   "source": [
    "## Q8"
   ]
  },
  {
   "cell_type": "code",
   "execution_count": null,
   "metadata": {},
   "outputs": [],
   "source": [
    "Select count(distinct artist)\n",
    "From artist_credit_name\n",
    "Where artist_credit in (\n",
    "        select artist_credit\n",
    "        from artist_credit_name\n",
    "        where name = 'Ariana Grande'\n",
    "    );"
   ]
  },
  {
   "cell_type": "markdown",
   "metadata": {},
   "source": [
    "## Q9"
   ]
  },
  {
   "cell_type": "code",
   "execution_count": null,
   "metadata": {},
   "outputs": [],
   "source": [
    "with duos_list (id1, id2, count) as (\n",
    "    select a1.artist as id1,\n",
    "        a2.artist as id2,\n",
    "        count(*) as c\n",
    "    from artist_credit_name a1\n",
    "        inner join artist_credit_name a2 on a1.artist_credit = a2.artist_credit\n",
    "        inner join release r on a2.artist_credit = r.artist_credit\n",
    "        inner join artist a3 on a1.artist = a3.id\n",
    "        inner join artist a4 on a2.artist = a4.id\n",
    "        inner join artist_type a5 on a3.type = a5.id\n",
    "        inner join artist_type a6 on a4.type = a6.id\n",
    "        inner join language l on r.language = l.id\n",
    "    where a3.name < a4.name\n",
    "        and a5.name = \"Person\"\n",
    "        and a6.name = \"Person\"\n",
    "        and l.name = 'English'\n",
    "        and a3.begin_date_year > 1960\n",
    "        and a4.begin_date_year > 1960\n",
    "    group by a1.artist,\n",
    "        a2.artist\n",
    ")\n",
    "select *\n",
    "from (\n",
    "        select row_number () over (\n",
    "                order by count desc,\n",
    "                    a1.name,\n",
    "                    a2.name\n",
    "            ) as rank,\n",
    "            a1.name as name1,\n",
    "            a2.name as name2,\n",
    "            count\n",
    "        from duos_list d\n",
    "            inner join artist a1 on d.id1 = a1.id\n",
    "            inner join artist a2 on d.id2 = a2.id\n",
    "    )\n",
    "where name1 = 'Dr. Dre'\n",
    "    and name2 = 'Eminem';"
   ]
  },
  {
   "cell_type": "markdown",
   "metadata": {},
   "source": [
    "## Q10"
   ]
  },
  {
   "cell_type": "code",
   "execution_count": null,
   "metadata": {},
   "outputs": [],
   "source": [
    "with c as (\n",
    "      select row_number() over (\n",
    "                  order by c.id asc\n",
    "            ) as seqnum,\n",
    "            c.name as name\n",
    "      from artist_alias c\n",
    "            join artist on c.artist = artist.id\n",
    "      where artist.name = 'The Beatles'\n",
    "),\n",
    "flattened as (\n",
    "      select seqnum,\n",
    "            name as name\n",
    "      from c\n",
    "      where seqnum = 1\n",
    "      union all\n",
    "      select c.seqnum,\n",
    "            f.name || ', ' || c.name\n",
    "      from c\n",
    "            join flattened f on c.seqnum = f.seqnum + 1\n",
    ")\n",
    "select name\n",
    "from flattened\n",
    "order by seqnum desc\n",
    "limit 1;"
   ]
  }
 ],
 "metadata": {
  "kernelspec": {
   "display_name": "Python 3",
   "language": "python",
   "name": "python3"
  },
  "language_info": {
   "codemirror_mode": {
    "name": "ipython",
    "version": 3
   },
   "file_extension": ".py",
   "mimetype": "text/x-python",
   "name": "python",
   "nbconvert_exporter": "python",
   "pygments_lexer": "ipython3",
   "version": "3.7.4"
  }
 },
 "nbformat": 4,
 "nbformat_minor": 4
}
